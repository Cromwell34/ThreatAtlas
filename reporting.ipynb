{
 "cells": [
  {
   "cell_type": "code",
   "execution_count": 10,
   "metadata": {},
   "outputs": [
    {
     "name": "stderr",
     "output_type": "stream",
     "text": [
      "/usr/local/lib/python3.10/dist-packages/dateutil/parser/_parser.py:1207: UnknownTimezoneWarning:\n",
      "\n",
      "tzname EST identified but not understood.  Pass `tzinfos` argument in order to correctly return a timezone-aware datetime.  In a future version, this will raise an exception.\n",
      "\n",
      "/usr/local/lib/python3.10/dist-packages/dateutil/parser/_parser.py:1207: UnknownTimezoneWarning:\n",
      "\n",
      "tzname EDT identified but not understood.  Pass `tzinfos` argument in order to correctly return a timezone-aware datetime.  In a future version, this will raise an exception.\n",
      "\n"
     ]
    }
   ],
   "source": [
    "import event_tools as ev\n",
    "import pandas as pd\n",
    "\n",
    "test_set = pd.read_json(\"aggregated_dataNewTest2.json\")\n",
    "test_master = pd.read_json(\"output.json\", encoding=\"utf-8\")\n",
    "\n",
    "all_countries = list(zip(test_set[\"country\"].to_list(), test_set[\"mentions\"].to_list()))\n",
    "counted_countries = sorted(all_countries, key=lambda x: x[1], reverse=True)\n",
    "\n",
    "country_ = \"Russia\"\n",
    "k = 25\n",
    "n = 3\n",
    "\n",
    "country = ev.country_headlines(country_ ,test_set).to_list()\n",
    "summaries = ev.get_summaries(country,test_master)\n",
    "\n",
    "\n",
    "n_gram_counts = dict(sorted(ev.aggregate_ngrams(summaries,n).items(), key=lambda item: item[1],reverse=True))\n",
    "\n",
    "individuals = ev.get_entities(country,test_master,'Associated Individuals')\n",
    "orgs = ev.get_entities(country,test_master,'Associated Organizations')\n"
   ]
  },
  {
   "cell_type": "code",
   "execution_count": 78,
   "metadata": {},
   "outputs": [
    {
     "data": {
      "text/plain": [
       "[('Biden', 0.1183431952662722),\n",
       " ('Michael Travis Leake', 0.23809523809523808),\n",
       " ('Berlusconi', 0.2777777777777778),\n",
       " ('Zelensky', 1.0),\n",
       " ('Vladimir V', 0.1111111111111111),\n",
       " ('Silvio Berlusconi', 0.24),\n",
       " ('Leake', 0.24615384615384617),\n",
       " ('Yevgeny V', 0.3764705882352941),\n",
       " ('Blinken', 0.24),\n",
       " ('Joe Biden', 0.21176470588235294),\n",
       " ('John Kirby', 0.13333333333333333),\n",
       " ('Steve Rosenberg', 0.15652173913043477),\n",
       " ('Michael Travis', 0.10909090909090909),\n",
       " ('Antony Blinken', 0.10909090909090909),\n",
       " ('Volodymyr Zelensky', 0.24615384615384617),\n",
       " ('pro-Kremlin', 0.12631578947368421),\n",
       " ('Yevgeny V. Prigozhin', 0.11428571428571428),\n",
       " ('Meloni', 0.17142857142857143),\n",
       " ('Alemany', 0.10666666666666667),\n",
       " ('Zelenksy', 0.17500000000000002),\n",
       " ('Zelenskyy', 0.18823529411764706)]"
      ]
     },
     "execution_count": 78,
     "metadata": {},
     "output_type": "execute_result"
    }
   ],
   "source": [
    "from difflib import SequenceMatcher\n",
    "import jellyfish as je\n",
    "\n",
    "def similar(a, b):\n",
    "    return SequenceMatcher(None, a, b).ratio()\n",
    "\n",
    "def count_similar(a,b):\n",
    "    similar = a/b\n",
    "    if similar > 1:\n",
    "        similar = b/a\n",
    "\n",
    "    return similar\n",
    "\n",
    "compare = individuals[0][7]\n",
    "\n",
    "matches = []\n",
    "for i in individuals[0]: \n",
    "    sim = similar(i[0],compare[0])\n",
    "    c_sim = count_similar(i[1],compare[1])\n",
    "    if sim*c_sim > 0.1:\n",
    "        matches.append((i[0], sim*c_sim))\n",
    "\n",
    "\n",
    "matches\n"
   ]
  },
  {
   "cell_type": "code",
   "execution_count": null,
   "metadata": {},
   "outputs": [],
   "source": []
  },
  {
   "cell_type": "code",
   "execution_count": null,
   "metadata": {},
   "outputs": [],
   "source": [
    "ev.top_n_bar_chart(counted_countries, 25, \"Associated countries\", vertical=True)\n",
    "ev.top_n_bar_chart(individuals[0],k,\"Associated individuals\",vertical=False)\n",
    "ev.top_n_bar_chart(orgs[0],k,\"Associated Organizations\",vertical=False)\n",
    "\n",
    "for a in (n_gram_counts.items()):\n",
    "    if a[1] > 1:\n",
    "        print(\" \".join(a[0])+ \": \"+str(a[1]))\n",
    "\n",
    "for a in country[0]:\n",
    "    print(a)"
   ]
  },
  {
   "cell_type": "code",
   "execution_count": null,
   "metadata": {},
   "outputs": [],
   "source": []
  }
 ],
 "metadata": {
  "kernelspec": {
   "display_name": "Python 3",
   "language": "python",
   "name": "python3"
  },
  "language_info": {
   "codemirror_mode": {
    "name": "ipython",
    "version": 3
   },
   "file_extension": ".py",
   "mimetype": "text/x-python",
   "name": "python",
   "nbconvert_exporter": "python",
   "pygments_lexer": "ipython3",
   "version": "3.10.7"
  },
  "orig_nbformat": 4
 },
 "nbformat": 4,
 "nbformat_minor": 2
}
