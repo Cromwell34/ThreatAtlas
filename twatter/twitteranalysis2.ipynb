{
 "cells": [
  {
   "attachments": {},
   "cell_type": "markdown",
   "metadata": {},
   "source": [
    "### Main"
   ]
  },
  {
   "cell_type": "code",
   "execution_count": 3,
   "metadata": {},
   "outputs": [],
   "source": [
    "# Import packages\n",
    "import snscrape.modules.twitter as twitter \n",
    "from datetime import datetime, timedelta\n",
    "from collections import defaultdict\n",
    "import plotly.graph_objects as go\n",
    "from collections import Counter\n",
    "import pandas as pd \n",
    "# from textblob import TextBlob\n",
    "# from wave import Wave_write \n",
    "# import spacy \n",
    "# import csv\n",
    "# import re\n",
    "\n",
    "def generate_dates(start_date, end_date):\n",
    "    \"\"\"\n",
    "    Inputs:\n",
    "    start_date: string, format: \"YYYY-MM-DD\"\n",
    "    end_date: string, format: \"YYYY-MM-DD\"\n",
    "\n",
    "    Returns a list of dates for every 12 months between start_date and end_date.\n",
    "    \"\"\"\n",
    "    dates = []\n",
    "    current_date = datetime.strptime(start_date, \"%Y-%m-%d\")\n",
    "\n",
    "    while current_date.strftime(\"%Y-%m-%d\") <= end_date:\n",
    "        dates.append(current_date.strftime(\"%Y-%m-%d\"))\n",
    "        current_date += timedelta(days=365)\n",
    "\n",
    "    return dates\n",
    "\n",
    "# Tweets from query \n",
    "CSV_FILE_PATH =\"queries.xlsx\"\n",
    "\n",
    "def twitter_textsearch(query,n):\n",
    "    tweet_list = []\n",
    "\n",
    "    # Using TwitterSearchScraper to scrape data and append tweets to list\n",
    "    if n != 0:\n",
    "        for i,tweet in enumerate(twitter.TwitterSearchScraper(query).get_items()):\n",
    "            # print(tweet.content)\n",
    "            if i>n:\n",
    "                break\n",
    "            tweet_list.append([tweet.retweetedTweet,tweet.date, tweet.id, tweet.content, tweet.user.username,\n",
    "                               tweet.likeCount,tweet.replyCount,tweet.retweetCount,tweet.mentionedUsers])\n",
    "    else:\n",
    "        for i,tweet in enumerate(twitter.TwitterSearchScraper(query).get_items()):\n",
    "            tweet_list.append([tweet.retweetedTweet,tweet.date, tweet.id, tweet.content, tweet.user.username,\n",
    "                               tweet.likeCount,tweet.replyCount,tweet.retweetCount,tweet.mentionedUsers])\n",
    "\n",
    "    tweets_df = pd.DataFrame(tweet_list, columns=['Retweet','Datetime', 'Tweet Id', 'Text', \n",
    "                                                  'Username','likes','replies','rtcount','mentions'])\n",
    "\n",
    "    return tweets_df\n"
   ]
  },
  {
   "attachments": {},
   "cell_type": "markdown",
   "metadata": {},
   "source": [
    "### Tweet extraction"
   ]
  },
  {
   "cell_type": "code",
   "execution_count": null,
   "metadata": {},
   "outputs": [],
   "source": [
    "## Single query\n",
    "date = \"2010-01-01\"\n",
    "query = \"UN convention torture\"\n",
    "twitter_textsearch(query+\" until:\"+date,0).to_csv('tweets from '+'2023-05-19'+'.csv')"
   ]
  },
  {
   "cell_type": "code",
   "execution_count": null,
   "metadata": {},
   "outputs": [],
   "source": [
    "## Multi query\n",
    "query = \"UN convention torture\"\n",
    "queries = [\"UN convention torture\"]\n",
    "date_range = generate_dates('2010-01-01','2023-05-19')\n",
    "\n",
    "for query_ in queries:\n",
    "    for date in date_range:\n",
    "        print(query+\" until:\"+date)\n",
    "        twitter_textsearch(query+\" until:\"+date,0).to_csv('tweets from '+date+'.csv')\n"
   ]
  }
 ],
 "metadata": {
  "kernelspec": {
   "display_name": "Python 3",
   "language": "python",
   "name": "python3"
  },
  "language_info": {
   "codemirror_mode": {
    "name": "ipython",
    "version": 3
   },
   "file_extension": ".py",
   "mimetype": "text/x-python",
   "name": "python",
   "nbconvert_exporter": "python",
   "pygments_lexer": "ipython3",
   "version": "3.9.7"
  },
  "orig_nbformat": 4
 },
 "nbformat": 4,
 "nbformat_minor": 2
}
